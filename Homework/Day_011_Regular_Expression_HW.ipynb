{
 "cells": [
  {
   "cell_type": "markdown",
   "metadata": {},
   "source": [
    "# 正規表達式練習\n",
    "## 在網路爬蟲當中，正規表達式常常用來過濾以及搜尋特定的pattern字串。\n",
    "## 今天要來練習過濾IP address，以及URL。"
   ]
  },
  {
   "cell_type": "code",
   "execution_count": 1,
   "metadata": {},
   "outputs": [],
   "source": [
    "import re #載入re模組"
   ]
  },
  {
   "cell_type": "code",
   "execution_count": 23,
   "metadata": {},
   "outputs": [],
   "source": [
    "# 定義一個函數，用來測試是否能匹配正規表達式\n",
    "def RegexMatchingTest(regex, input_text):\n",
    "    #將正規表達式轉換成pattern\n",
    "    pattern = re.compile(regex)\n",
    "    \n",
    "    # 使轉換後的pattern，來測試是否匹配\n",
    "    result = re.search(pattern, input_text)\n",
    "\n",
    "    if result:\n",
    "        # 匹配完的結果會儲存在group()的屬性中，我們可以把匹配的結果列印出來\n",
    "        print(\"Matched: %s\" % (result.group()))\n",
    "        \n",
    "        if result.lastindex is not None:\n",
    "            # group(0)代表整個字串，group(1)、group(2)...代表分組中，匹配的內容\n",
    "            for i in range(0, result.lastindex+1):\n",
    "                print(\"  group(%d): %s\" % (i, result.group(i)))\n",
    "    else:\n",
    "        print(\"Not matched.\")    "
   ]
  },
  {
   "cell_type": "markdown",
   "metadata": {},
   "source": [
    "## 用正規表達式過濾IP address。\n",
    "#### 一個合法的網路IP address，其格式為：X.X.X.X, 其中X是0~255的數字。我們可以用一個regex，來表達IP address的內容。"
   ]
  },
  {
   "cell_type": "code",
   "execution_count": 21,
   "metadata": {},
   "outputs": [
    {
     "name": "stdout",
     "output_type": "stream",
     "text": [
      "<class 're.Match'>\n",
      "Matched: 216.58.200.227\n",
      "  group(0): 216.58.200.227\n",
      "  group(1): 216\n",
      "  group(2): 58\n",
      "  group(3): 200\n",
      "  group(4): 227\n"
     ]
    }
   ],
   "source": [
    "test_string = \"Google IP address is 216.58.200.227\"\n",
    "\n",
    "# 過濾IP address的regex pattern\n",
    "regex = '(\\d{1,3}).(\\d{1,3}).(\\d{1,3}).(\\d{1,3})'\n",
    "RegexMatchingTest(regex, test_string)"
   ]
  },
  {
   "cell_type": "markdown",
   "metadata": {},
   "source": [
    "#### 以上是最簡單的regex寫法。但深入思考，上面的regex也能夠匹配444.555.666.777這種無效的IP address。\n",
    "#### 我們必須再雕琢regex，只接受[0 ~ 255].[0 ~ 255].[0 ~ 255].[0 ~ 255]這種合法的IP address，而過濾不合法的IP。"
   ]
  },
  {
   "cell_type": "code",
   "execution_count": 26,
   "metadata": {},
   "outputs": [
    {
     "name": "stdout",
     "output_type": "stream",
     "text": [
      "Matched: 216.58.200.227\n",
      "  group(0): 216.58.200.227\n",
      "  group(1): 216\n",
      "  group(2): 58\n",
      "  group(3): 200\n",
      "  group(4): 227\n",
      "Not matched.\n"
     ]
    }
   ],
   "source": [
    "'''\n",
    "    Your code here.\n",
    "    hint: 把IP可能出現的數字範圍，分開來思考\n",
    "          1. 000 ~ 199\n",
    "          2. 200 ~ 249\n",
    "          3. 250 ~ 255\n",
    "'''\n",
    "regex = \"(25[0-5]|2[0-4][0-9]|[0-1]?[0-9][0-9]?)\\.(25[0-5]|2[0-4][0-9]|[0-1]?[0-9][0-9]?)\\.(25[0-9]|2[0-4][0-9]|[0-1]?[0-9]?[0-9])\\.(25[0-9]|2[0-4][0-9]|[0-1]?[0-9]?[0-9])\"\n",
    "\n",
    "\n",
    "test_string1 = \"Test IP 216.58.200.227\"\n",
    "RegexMatchingTest(regex, test_string1)  #測試表達式是否會匹配此合法IP\n",
    "\n",
    "test_string2 = \"Test IP 999.888.777.666\"\n",
    "RegexMatchingTest(regex, test_string2)  #測試表達式是否會匹配此不合法IP"
   ]
  },
  {
   "cell_type": "markdown",
   "metadata": {},
   "source": [
    "## 用正規表達式過濾URL。\n",
    "#### 在網頁爬蟲中，常常會有外部連結的A tag，例如：\n",
    "< a href=\"https://movies.yahoo.com.tw/movietime_result.html/id=9467\"> 時刻表 < /a >\n",
    "#### 我們要把\"href=\"之後的URL擷取出來，用來做後續處理。"
   ]
  },
  {
   "cell_type": "code",
   "execution_count": 7,
   "metadata": {},
   "outputs": [
    {
     "name": "stdout",
     "output_type": "stream",
     "text": [
      "Matched: https://movies.yahoo.com.tw/movietime_result.html/id=9467\n"
     ]
    }
   ],
   "source": [
    "html_a_tag = \"<a href=https://movies.yahoo.com.tw/movietime_result.html/id=9467> 時刻表 </a>\"\n",
    "\n",
    "'''\n",
    "    Your code here.\n",
    "    過濾URL的regex pattern\n",
    "'''\n",
    "regex = \"https?://.+\\d{4}\"\n",
    "RegexMatchingTest(regex, html_a_tag)"
   ]
  },
  {
   "cell_type": "markdown",
   "metadata": {},
   "source": [
    "## 範例1:使用「\\w」匹配字母，「\\d」匹配數字，「\\s」匹配空白"
   ]
  },
  {
   "cell_type": "code",
   "execution_count": 27,
   "metadata": {},
   "outputs": [
    {
     "name": "stdout",
     "output_type": "stream",
     "text": [
      "Matched: My plate number is XYZ-1234\n"
     ]
    }
   ],
   "source": [
    "test_string = \"My plate number is XYZ-1234.\"\n",
    "regex = 'My plate number is \\w\\w\\w-\\d\\d\\d\\d'\n",
    "RegexMatchingTest(regex, test_string)"
   ]
  },
  {
   "cell_type": "code",
   "execution_count": 28,
   "metadata": {},
   "outputs": [
    {
     "name": "stdout",
     "output_type": "stream",
     "text": [
      "Matched: My phone number is 0912-345 678\n"
     ]
    }
   ],
   "source": [
    "test_string = \"My phone number is 0912-345 678.\"\n",
    "regex = 'My phone number is \\d\\d\\d\\d-\\d\\d\\d\\s\\d\\d\\d'\n",
    "RegexMatchingTest(regex, test_string)"
   ]
  },
  {
   "cell_type": "code",
   "execution_count": 29,
   "metadata": {},
   "outputs": [
    {
     "name": "stdout",
     "output_type": "stream",
     "text": [
      "Matched: My phone number is 0912-345 678\n"
     ]
    }
   ],
   "source": [
    "#利用量詞{n,m}來簡化寫法\n",
    "test_string = \"My phone number is 0912-345 678.\"\n",
    "regex = 'My phone number is \\d{4}-\\d{3}\\s{1}\\d{3}'\n",
    "RegexMatchingTest(regex, test_string)"
   ]
  },
  {
   "cell_type": "code",
   "execution_count": 30,
   "metadata": {},
   "outputs": [
    {
     "name": "stdout",
     "output_type": "stream",
     "text": [
      "Matched: My phone number is 0912-345 678\n"
     ]
    }
   ],
   "source": [
    "# 更偷懶的寫法，用「.」來代表任何字元\n",
    "test_string = \"My phone number is 0912-345 678.\"\n",
    "regex = 'My phone number is .{4}-.{3}.{1}.{3}'\n",
    "RegexMatchingTest(regex, test_string)"
   ]
  },
  {
   "cell_type": "markdown",
   "metadata": {},
   "source": [
    "## 範例2:使用[...]匹配在[ ]裡面所列出的字元"
   ]
  },
  {
   "cell_type": "code",
   "execution_count": 31,
   "metadata": {},
   "outputs": [
    {
     "name": "stdout",
     "output_type": "stream",
     "text": [
      "Matched: I love d\n"
     ]
    }
   ],
   "source": [
    "test_string = \"I love dogs.\"\n",
    "regex = 'I love [acdgnost]'\n",
    "RegexMatchingTest(regex, test_string)"
   ]
  },
  {
   "cell_type": "code",
   "execution_count": 32,
   "metadata": {},
   "outputs": [
    {
     "name": "stdout",
     "output_type": "stream",
     "text": [
      "Matched: I love c\n"
     ]
    }
   ],
   "source": [
    "test_string = \"I love cats.\"\n",
    "regex = 'I love [acdgnost]'\n",
    "RegexMatchingTest(regex, test_string)"
   ]
  },
  {
   "cell_type": "code",
   "execution_count": 33,
   "metadata": {},
   "outputs": [
    {
     "name": "stdout",
     "output_type": "stream",
     "text": [
      "Matched: I love dogs\n"
     ]
    }
   ],
   "source": [
    "# 若要匹配超過一個以上的字元，必須加入量詞(「+」或「*」或「?」)來表達\n",
    "test_string = \"I love dogs.\"\n",
    "regex = 'I love [acdgnost]+'\n",
    "RegexMatchingTest(regex, test_string)"
   ]
  },
  {
   "cell_type": "code",
   "execution_count": 34,
   "metadata": {},
   "outputs": [
    {
     "name": "stdout",
     "output_type": "stream",
     "text": [
      "Not matched.\n"
     ]
    }
   ],
   "source": [
    "test_string = \"I love people.\"\n",
    "regex = 'I love [acdgnost]+'\n",
    "RegexMatchingTest(regex, test_string)\n",
    "# people裡面只有'p'、'e'、'o'、'l'等字元，無法滿足[acdgnost]裡面所列出的條件"
   ]
  },
  {
   "cell_type": "markdown",
   "metadata": {},
   "source": [
    "## 範例3:分組及捕捉"
   ]
  },
  {
   "cell_type": "code",
   "execution_count": 35,
   "metadata": {},
   "outputs": [
    {
     "name": "stdout",
     "output_type": "stream",
     "text": [
      "Matched: I like baseball sport\n",
      "  group(0): I like baseball sport\n",
      "  group(1): baseball\n"
     ]
    }
   ],
   "source": [
    "test_string = \"I like baseball sport.\"\n",
    "regex = 'I like (hiking|baseball) sport'\n",
    "RegexMatchingTest(regex, test_string)"
   ]
  },
  {
   "cell_type": "code",
   "execution_count": 36,
   "metadata": {},
   "outputs": [
    {
     "name": "stdout",
     "output_type": "stream",
     "text": [
      "Matched: I like hiking sport\n",
      "  group(0): I like hiking sport\n",
      "  group(1): hiking\n"
     ]
    }
   ],
   "source": [
    "test_string = \"I like hiking sport.\"\n",
    "regex = 'I like (hiking|basketball) sport'\n",
    "RegexMatchingTest(regex, test_string)"
   ]
  },
  {
   "cell_type": "markdown",
   "metadata": {},
   "source": [
    "## 範例4:使用跳脫符號「\\」\n",
    "當遇到詮釋字元要被視為一般字元時，就必須要在前面加上跳脫符號「\\」"
   ]
  },
  {
   "cell_type": "code",
   "execution_count": 37,
   "metadata": {},
   "outputs": [
    {
     "name": "stdout",
     "output_type": "stream",
     "text": [
      "Matched: Please call number (02)2882-5252\n"
     ]
    }
   ],
   "source": [
    "test_string = \"Please call number (02)2882-5252.\"\n",
    "regex = 'Please call number \\([0-9]{2}\\)[0-9]{4}-[0-9]{4}'  #用「\\(」來匹配左括號\"(\"，用「\\)」來匹配右括號\")\"\n",
    "RegexMatchingTest(regex, test_string)"
   ]
  },
  {
   "cell_type": "markdown",
   "metadata": {},
   "source": [
    "## 範例5:比對中文字"
   ]
  },
  {
   "cell_type": "code",
   "execution_count": 38,
   "metadata": {},
   "outputs": [
    {
     "name": "stdout",
     "output_type": "stream",
     "text": [
      "Matched: 中文字\n"
     ]
    }
   ],
   "source": [
    "test_string = \"Here are 中文字 and English\"  #中英夾雜的句子\n",
    "regex = '[\\u4e00-\\u9fa5]+'                  #中文的UNICODE，範圍是0x4E00 ~ 0x9FA5\n",
    "RegexMatchingTest(regex, test_string)"
   ]
  },
  {
   "cell_type": "code",
   "execution_count": null,
   "metadata": {},
   "outputs": [],
   "source": []
  }
 ],
 "metadata": {
  "kernelspec": {
   "display_name": "Python 3",
   "language": "python",
   "name": "python3"
  },
  "language_info": {
   "codemirror_mode": {
    "name": "ipython",
    "version": 3
   },
   "file_extension": ".py",
   "mimetype": "text/x-python",
   "name": "python",
   "nbconvert_exporter": "python",
   "pygments_lexer": "ipython3",
   "version": "3.7.6"
  }
 },
 "nbformat": 4,
 "nbformat_minor": 2
}
