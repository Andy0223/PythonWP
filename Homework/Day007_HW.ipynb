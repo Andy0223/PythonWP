{
 "cells": [
  {
   "cell_type": "markdown",
   "metadata": {},
   "source": [
    "## 請問目前提到的這種基於 HTTP 一來一回的網頁傳輸方式，有哪些缺點及問題？\n",
    "1. http 使用明文傳遞，安全性低\n",
    "2. 即時互動性低"
   ]
  },
  {
   "cell_type": "markdown",
   "metadata": {},
   "source": [
    "## 第 16 頁所使用的 JavaScipt 程式語言，跟我們一般使用的 Python 在執行上有什麼不同。\n",
    "1. Python 廣泛應用於科學和特定領域，包括數據科學、人工智能、機器學習、計算機科學、視覺和圖像處理。Python 用於後端開發，後端開發的應用程序是 web 開發裡用戶看不到的部分。\n",
    "2. JavaScript 既可以開發後端也可以開發前端。前端是用戶可以看見與互動的部分。當你瀏覽或操作網站或 web 應用時，就使用了 JavaScript。"
   ]
  },
  {
   "cell_type": "code",
   "execution_count": null,
   "metadata": {},
   "outputs": [],
   "source": []
  }
 ],
 "metadata": {
  "kernelspec": {
   "display_name": "Python 3",
   "language": "python",
   "name": "python3"
  },
  "language_info": {
   "codemirror_mode": {
    "name": "ipython",
    "version": 3
   },
   "file_extension": ".py",
   "mimetype": "text/x-python",
   "name": "python",
   "nbconvert_exporter": "python",
   "pygments_lexer": "ipython3",
   "version": "3.7.6"
  }
 },
 "nbformat": 4,
 "nbformat_minor": 4
}
